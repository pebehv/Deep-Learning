{
  "nbformat": 4,
  "nbformat_minor": 0,
  "metadata": {
    "colab": {
      "provenance": [],
      "include_colab_link": true
    },
    "kernelspec": {
      "name": "python3",
      "display_name": "Python 3"
    },
    "language_info": {
      "name": "python"
    }
  },
  "cells": [
    {
      "cell_type": "markdown",
      "metadata": {
        "id": "view-in-github",
        "colab_type": "text"
      },
      "source": [
        "<a href=\"https://colab.research.google.com/github/pebehv/Deep-Learning/blob/master/Notebooks/Chap10/10_2_Convolution_for_MNIST_1D.ipynb\" target=\"_parent\"><img src=\"https://colab.research.google.com/assets/colab-badge.svg\" alt=\"Open In Colab\"/></a>"
      ]
    },
    {
      "cell_type": "markdown",
      "source": [
        "# **Notebook 10.2: Convolution for MNIST-1D**\n",
        "\n",
        "This notebook investigates a 1D convolutional network for MNIST-1D as in figure 10.7 and 10.8a.\n",
        "\n",
        "Work through the cells below, running each cell in turn. In various places you will see the words \"TODO\". Follow the instructions at these places and make predictions about what is going to happen or write code to complete the functions.\n",
        "\n",
        "Contact me at udlbookmail@gmail.com if you find any mistakes or have any suggestions.\n",
        "\n"
      ],
      "metadata": {
        "id": "t9vk9Elugvmi"
      }
    },
    {
      "cell_type": "code",
      "source": [
        "# Run this if you're in a Colab to install MNIST 1D repository\n",
        "!pip install git+https://github.com/greydanus/mnist1d"
      ],
      "metadata": {
        "id": "D5yLObtZCi9J",
        "colab": {
          "base_uri": "https://localhost:8080/"
        },
        "outputId": "f4192480-ba27-486b-8be6-c2f58fb6f620"
      },
      "execution_count": 1,
      "outputs": [
        {
          "output_type": "stream",
          "name": "stdout",
          "text": [
            "Collecting git+https://github.com/greydanus/mnist1d\n",
            "  Cloning https://github.com/greydanus/mnist1d to /tmp/pip-req-build-r7gdnnj4\n",
            "  Running command git clone --filter=blob:none --quiet https://github.com/greydanus/mnist1d /tmp/pip-req-build-r7gdnnj4\n",
            "  Resolved https://github.com/greydanus/mnist1d to commit 7878d96082abd200c546a07a4101fa90b30fdf7e\n",
            "  Installing build dependencies ... \u001b[?25l\u001b[?25hdone\n",
            "  Getting requirements to build wheel ... \u001b[?25l\u001b[?25hdone\n",
            "  Preparing metadata (pyproject.toml) ... \u001b[?25l\u001b[?25hdone\n",
            "Requirement already satisfied: requests in /usr/local/lib/python3.11/dist-packages (from mnist1d==0.0.2.post16) (2.32.3)\n",
            "Requirement already satisfied: numpy in /usr/local/lib/python3.11/dist-packages (from mnist1d==0.0.2.post16) (2.0.2)\n",
            "Requirement already satisfied: matplotlib in /usr/local/lib/python3.11/dist-packages (from mnist1d==0.0.2.post16) (3.10.0)\n",
            "Requirement already satisfied: scipy in /usr/local/lib/python3.11/dist-packages (from mnist1d==0.0.2.post16) (1.16.0)\n",
            "Requirement already satisfied: contourpy>=1.0.1 in /usr/local/lib/python3.11/dist-packages (from matplotlib->mnist1d==0.0.2.post16) (1.3.2)\n",
            "Requirement already satisfied: cycler>=0.10 in /usr/local/lib/python3.11/dist-packages (from matplotlib->mnist1d==0.0.2.post16) (0.12.1)\n",
            "Requirement already satisfied: fonttools>=4.22.0 in /usr/local/lib/python3.11/dist-packages (from matplotlib->mnist1d==0.0.2.post16) (4.59.0)\n",
            "Requirement already satisfied: kiwisolver>=1.3.1 in /usr/local/lib/python3.11/dist-packages (from matplotlib->mnist1d==0.0.2.post16) (1.4.8)\n",
            "Requirement already satisfied: packaging>=20.0 in /usr/local/lib/python3.11/dist-packages (from matplotlib->mnist1d==0.0.2.post16) (25.0)\n",
            "Requirement already satisfied: pillow>=8 in /usr/local/lib/python3.11/dist-packages (from matplotlib->mnist1d==0.0.2.post16) (11.3.0)\n",
            "Requirement already satisfied: pyparsing>=2.3.1 in /usr/local/lib/python3.11/dist-packages (from matplotlib->mnist1d==0.0.2.post16) (3.2.3)\n",
            "Requirement already satisfied: python-dateutil>=2.7 in /usr/local/lib/python3.11/dist-packages (from matplotlib->mnist1d==0.0.2.post16) (2.9.0.post0)\n",
            "Requirement already satisfied: charset-normalizer<4,>=2 in /usr/local/lib/python3.11/dist-packages (from requests->mnist1d==0.0.2.post16) (3.4.2)\n",
            "Requirement already satisfied: idna<4,>=2.5 in /usr/local/lib/python3.11/dist-packages (from requests->mnist1d==0.0.2.post16) (3.10)\n",
            "Requirement already satisfied: urllib3<3,>=1.21.1 in /usr/local/lib/python3.11/dist-packages (from requests->mnist1d==0.0.2.post16) (2.5.0)\n",
            "Requirement already satisfied: certifi>=2017.4.17 in /usr/local/lib/python3.11/dist-packages (from requests->mnist1d==0.0.2.post16) (2025.7.14)\n",
            "Requirement already satisfied: six>=1.5 in /usr/local/lib/python3.11/dist-packages (from python-dateutil>=2.7->matplotlib->mnist1d==0.0.2.post16) (1.17.0)\n",
            "Building wheels for collected packages: mnist1d\n",
            "  Building wheel for mnist1d (pyproject.toml) ... \u001b[?25l\u001b[?25hdone\n",
            "  Created wheel for mnist1d: filename=mnist1d-0.0.2.post16-py3-none-any.whl size=14665 sha256=d356ac615700b52bd65a82f01f9c7501e014bcccf1e7e5179f2a5b399011361c\n",
            "  Stored in directory: /tmp/pip-ephem-wheel-cache-o66b75qz/wheels/d6/38/42/3d2112bc7d915f6195254ac85eb761d922d1b18f52817aa8e2\n",
            "Successfully built mnist1d\n",
            "Installing collected packages: mnist1d\n",
            "Successfully installed mnist1d-0.0.2.post16\n"
          ]
        }
      ]
    },
    {
      "cell_type": "code",
      "source": [
        "import numpy as np\n",
        "import os\n",
        "import torch, torch.nn as nn\n",
        "from torch.utils.data import TensorDataset, DataLoader\n",
        "from torch.optim.lr_scheduler import StepLR\n",
        "import matplotlib.pyplot as plt\n",
        "import mnist1d\n",
        "import random"
      ],
      "metadata": {
        "id": "YrXWAH7sUWvU"
      },
      "execution_count": 2,
      "outputs": []
    },
    {
      "cell_type": "code",
      "source": [
        "args = mnist1d.data.get_dataset_args()\n",
        "data = mnist1d.data.get_dataset(args, path='./mnist1d_data.pkl', download=False, regenerate=False)\n",
        "\n",
        "# The training and test input and outputs are in\n",
        "# data['x'], data['y'], data['x_test'], and data['y_test']\n",
        "print(\"Examples in training set: {}\".format(len(data['y'])))\n",
        "print(\"Examples in test set: {}\".format(len(data['y_test'])))\n",
        "print(\"Length of each example: {}\".format(data['x'].shape[-1]))"
      ],
      "metadata": {
        "id": "twI72ZCrCt5z",
        "colab": {
          "base_uri": "https://localhost:8080/"
        },
        "outputId": "503f4e1a-bb51-4371-a968-17d2341df8f0"
      },
      "execution_count": 3,
      "outputs": [
        {
          "output_type": "stream",
          "name": "stdout",
          "text": [
            "Did or could not load data from ./mnist1d_data.pkl. Rebuilding dataset...\n",
            "Examples in training set: 4000\n",
            "Examples in test set: 1000\n",
            "Length of each example: 40\n"
          ]
        }
      ]
    },
    {
      "cell_type": "code",
      "source": [
        "# Load in the data\n",
        "train_data_x = data['x'].transpose()\n",
        "train_data_y = data['y']\n",
        "val_data_x = data['x_test'].transpose()\n",
        "val_data_y = data['y_test']\n",
        "# Print out sizes\n",
        "print(\"Train data: %d examples (columns), each of which has %d dimensions (rows)\"%((train_data_x.shape[1],train_data_x.shape[0])))\n",
        "print(\"Validation data: %d examples (columns), each of which has %d dimensions (rows)\"%((val_data_x.shape[1],val_data_x.shape[0])))"
      ],
      "metadata": {
        "id": "8bKADvLHbiV5",
        "colab": {
          "base_uri": "https://localhost:8080/"
        },
        "outputId": "bcda2414-34ec-4ee5-8b81-e81ae87df587"
      },
      "execution_count": 4,
      "outputs": [
        {
          "output_type": "stream",
          "name": "stdout",
          "text": [
            "Train data: 4000 examples (columns), each of which has 40 dimensions (rows)\n",
            "Validation data: 1000 examples (columns), each of which has 40 dimensions (rows)\n"
          ]
        }
      ]
    },
    {
      "cell_type": "markdown",
      "source": [
        "Define the network"
      ],
      "metadata": {
        "id": "_sFvRDGrl4qe"
      }
    },
    {
      "cell_type": "code",
      "source": [
        "# There are 40 input dimensions and 10 output dimensions for this data\n",
        "# The inputs correspond to the 40 offsets in the MNIST1D template.\n",
        "D_i = 40\n",
        "# The outputs correspond to the 10 digits\n",
        "D_o = 10\n",
        "\n",
        "\n",
        "# TODO Create a model with the following layers\n",
        "# 1. Convolutional layer, (input=length 40 and 1 channel, kernel size 3, stride 2, padding=\"valid\", 15 output channels )\n",
        "# 2. ReLU\n",
        "# 3. Convolutional layer, (input=length 19 and 15 channels, kernel size 3, stride 2, padding=\"valid\", 15 output channels )\n",
        "# 4. ReLU\n",
        "# 5. Convolutional layer, (input=length 9 and 15 channels, kernel size 3, stride 2, padding=\"valid\", 15 output channels)\n",
        "# 6. ReLU\n",
        "# 7. Flatten (converts 4x15) to length 60\n",
        "# 8. Linear layer (input size = 60, output size = 10)\n",
        "# References:\n",
        "# https://pytorch.org/docs/1.13/generated/torch.nn.Conv1d.html?highlight=conv1d#torch.nn.Conv1d\n",
        "# https://pytorch.org/docs/stable/generated/torch.nn.Flatten.html\n",
        "# https://pytorch.org/docs/1.13/generated/torch.nn.Linear.html?highlight=linear#torch.nn.Linear\n",
        "\n",
        "# NOTE THAT THE CONVOLUTIONAL LAYERS NEED TO TAKE THE NUMBER OF INPUT CHANNELS AS A PARAMETER\n",
        "# AND NOT THE INPUT SIZE.\n",
        "\n",
        "# Replace the following function:\n",
        "model = nn.Sequential(\n",
        "\n",
        "    nn.Conv1d(in_channels=1, out_channels=15, kernel_size=3, stride=2, padding=\"valid\"),\n",
        "    nn.ReLU(),\n",
        "    nn.Conv1d(in_channels=15, out_channels=15, kernel_size=3, stride=2, padding=\"valid\"),\n",
        "    nn.ReLU(),\n",
        "    nn.Conv1d(in_channels=15, out_channels=15, kernel_size=3, stride=2, padding=\"valid\"),\n",
        "    nn.ReLU(),\n",
        "    nn.Flatten(),\n",
        "    nn.Linear(60, 10)\n",
        ")"
      ],
      "metadata": {
        "id": "FslroPJJffrh"
      },
      "execution_count": 30,
      "outputs": []
    },
    {
      "cell_type": "code",
      "source": [
        "# He initialization of weights\n",
        "def weights_init(layer_in):\n",
        "  if isinstance(layer_in, nn.Linear):\n",
        "    nn.init.kaiming_uniform_(layer_in.weight)\n",
        "    layer_in.bias.data.fill_(0.0)"
      ],
      "metadata": {
        "id": "YgLaex1pfhqz"
      },
      "execution_count": 27,
      "outputs": []
    },
    {
      "cell_type": "code",
      "source": [
        "# choose cross entropy loss function (equation 5.24 in the loss notes)\n",
        "loss_function = nn.CrossEntropyLoss()\n",
        "# construct SGD optimizer and initialize learning rate and momentum\n",
        "optimizer = torch.optim.SGD(model.parameters(), lr = 0.05, momentum=0.9)\n",
        "# object that decreases learning rate by half every 20 epochs\n",
        "scheduler = StepLR(optimizer, step_size=20, gamma=0.5)\n",
        "# create 100 dummy data points and store in data loader class\n",
        "x_train = torch.tensor(train_data_x.transpose().astype('float32'))\n",
        "y_train = torch.tensor(train_data_y.astype('long')).long()\n",
        "x_val= torch.tensor(val_data_x.transpose().astype('float32'))\n",
        "y_val = torch.tensor(val_data_y.astype('long')).long()\n",
        "\n",
        "# load the data into a class that creates the batches\n",
        "data_loader = DataLoader(TensorDataset(x_train,y_train), batch_size=100, shuffle=True, worker_init_fn=np.random.seed(1))\n",
        "\n",
        "# Initialize model weights\n",
        "model.apply(weights_init)\n",
        "\n",
        "# loop over the dataset n_epoch times\n",
        "n_epoch = 100\n",
        "# store the loss and the % correct at each epoch\n",
        "losses_train = np.zeros((n_epoch))\n",
        "errors_train = np.zeros((n_epoch))\n",
        "losses_val = np.zeros((n_epoch))\n",
        "errors_val = np.zeros((n_epoch))\n",
        "\n",
        "for epoch in range(n_epoch):\n",
        "  # loop over batches\n",
        "  for i, data in enumerate(data_loader):\n",
        "    # retrieve inputs and labels for this batch\n",
        "    x_batch, y_batch = data\n",
        "    # zero the parameter gradients\n",
        "    optimizer.zero_grad()\n",
        "    # forward pass -- calculate model output\n",
        "    pred = model(x_batch[:,None,:])\n",
        "    # compute the loss\n",
        "    loss = loss_function(pred, y_batch)\n",
        "    # backward pass\n",
        "    loss.backward()\n",
        "    # SGD update\n",
        "    optimizer.step()\n",
        "\n",
        "  # Run whole dataset to get statistics -- normally wouldn't do this\n",
        "  pred_train = model(x_train[:,None,:])\n",
        "  pred_val = model(x_val[:,None,:])\n",
        "  _, predicted_train_class = torch.max(pred_train.data, 1)\n",
        "  _, predicted_val_class = torch.max(pred_val.data, 1)\n",
        "  errors_train[epoch] = 100 - 100 * (predicted_train_class == y_train).float().sum() / len(y_train)\n",
        "  errors_val[epoch]= 100 - 100 * (predicted_val_class == y_val).float().sum() / len(y_val)\n",
        "  losses_train[epoch] = loss_function(pred_train, y_train).item()\n",
        "  losses_val[epoch]= loss_function(pred_val, y_val).item()\n",
        "  print(f'Epoch {epoch:5d}, train loss {losses_train[epoch]:.6f}, train error {errors_train[epoch]:3.2f},  val loss {losses_val[epoch]:.6f}, percent error {errors_val[epoch]:3.2f}')\n",
        "\n",
        "  # tell scheduler to consider updating learning rate\n",
        "  scheduler.step()\n",
        "\n",
        "# Plot the results\n",
        "fig, ax = plt.subplots()\n",
        "ax.plot(errors_train,'r-',label='train')\n",
        "ax.plot(errors_val,'b-',label='validation')\n",
        "ax.set_ylim(0,100); ax.set_xlim(0,n_epoch)\n",
        "ax.set_xlabel('Epoch'); ax.set_ylabel('Error')\n",
        "ax.set_title('Part I: Validation Result %3.2f'%(errors_val[-1]))\n",
        "ax.legend()\n",
        "plt.show()"
      ],
      "metadata": {
        "id": "NYw8I_3mmX5c",
        "colab": {
          "base_uri": "https://localhost:8080/",
          "height": 1000
        },
        "outputId": "3f799a04-cbef-4a5d-9165-87bd0694a567"
      },
      "execution_count": 31,
      "outputs": [
        {
          "output_type": "stream",
          "name": "stdout",
          "text": [
            "Epoch     0, train loss 2.068985, train error 78.10,  val loss 2.079370, percent error 81.90\n",
            "Epoch     1, train loss 1.675032, train error 68.28,  val loss 1.693288, percent error 70.90\n",
            "Epoch     2, train loss 1.355025, train error 53.75,  val loss 1.369890, percent error 55.10\n",
            "Epoch     3, train loss 1.283554, train error 50.72,  val loss 1.311521, percent error 54.20\n",
            "Epoch     4, train loss 1.235886, train error 53.05,  val loss 1.241983, percent error 55.20\n",
            "Epoch     5, train loss 1.210135, train error 47.55,  val loss 1.236407, percent error 51.30\n",
            "Epoch     6, train loss 1.173637, train error 47.45,  val loss 1.202895, percent error 49.40\n",
            "Epoch     7, train loss 1.002677, train error 38.92,  val loss 1.063891, percent error 45.40\n",
            "Epoch     8, train loss 0.824348, train error 31.97,  val loss 0.877829, percent error 34.50\n",
            "Epoch     9, train loss 0.760003, train error 28.93,  val loss 0.808962, percent error 32.20\n",
            "Epoch    10, train loss 0.722045, train error 28.43,  val loss 0.781221, percent error 30.50\n",
            "Epoch    11, train loss 0.567392, train error 20.85,  val loss 0.625012, percent error 24.00\n",
            "Epoch    12, train loss 0.539866, train error 20.47,  val loss 0.630294, percent error 23.90\n",
            "Epoch    13, train loss 0.488980, train error 18.32,  val loss 0.578974, percent error 21.30\n",
            "Epoch    14, train loss 0.446075, train error 16.05,  val loss 0.531290, percent error 19.60\n",
            "Epoch    15, train loss 0.349100, train error 13.07,  val loss 0.473358, percent error 16.70\n",
            "Epoch    16, train loss 0.337318, train error 12.43,  val loss 0.447253, percent error 16.20\n",
            "Epoch    17, train loss 0.286708, train error 10.10,  val loss 0.416023, percent error 14.80\n",
            "Epoch    18, train loss 0.319673, train error 11.28,  val loss 0.447422, percent error 15.30\n",
            "Epoch    19, train loss 0.256052, train error 9.25,  val loss 0.423922, percent error 13.80\n",
            "Epoch    20, train loss 0.185934, train error 5.93,  val loss 0.340433, percent error 12.30\n",
            "Epoch    21, train loss 0.180901, train error 5.97,  val loss 0.337383, percent error 12.20\n",
            "Epoch    22, train loss 0.169419, train error 5.60,  val loss 0.343075, percent error 11.20\n",
            "Epoch    23, train loss 0.172374, train error 5.75,  val loss 0.359000, percent error 11.70\n",
            "Epoch    24, train loss 0.152452, train error 5.25,  val loss 0.339027, percent error 11.90\n",
            "Epoch    25, train loss 0.140066, train error 4.80,  val loss 0.335150, percent error 11.60\n",
            "Epoch    26, train loss 0.140345, train error 4.80,  val loss 0.345236, percent error 11.60\n",
            "Epoch    27, train loss 0.145640, train error 4.82,  val loss 0.357518, percent error 10.70\n",
            "Epoch    28, train loss 0.122373, train error 3.95,  val loss 0.332221, percent error 11.40\n",
            "Epoch    29, train loss 0.122371, train error 4.15,  val loss 0.332762, percent error 10.60\n",
            "Epoch    30, train loss 0.110460, train error 3.47,  val loss 0.334767, percent error 10.00\n",
            "Epoch    31, train loss 0.108332, train error 3.40,  val loss 0.326801, percent error 11.00\n",
            "Epoch    32, train loss 0.102771, train error 3.15,  val loss 0.343318, percent error 12.00\n",
            "Epoch    33, train loss 0.101113, train error 3.18,  val loss 0.341251, percent error 10.30\n",
            "Epoch    34, train loss 0.097027, train error 3.10,  val loss 0.336632, percent error 11.30\n",
            "Epoch    35, train loss 0.096050, train error 2.95,  val loss 0.343369, percent error 10.80\n",
            "Epoch    36, train loss 0.145732, train error 5.32,  val loss 0.391989, percent error 12.20\n",
            "Epoch    37, train loss 0.094195, train error 3.22,  val loss 0.347044, percent error 10.40\n",
            "Epoch    38, train loss 0.088456, train error 2.68,  val loss 0.356545, percent error 10.30\n",
            "Epoch    39, train loss 0.088553, train error 2.90,  val loss 0.358232, percent error 10.50\n",
            "Epoch    40, train loss 0.070194, train error 1.90,  val loss 0.334742, percent error 10.00\n",
            "Epoch    41, train loss 0.062635, train error 1.72,  val loss 0.324697, percent error 9.80\n",
            "Epoch    42, train loss 0.061702, train error 1.68,  val loss 0.341134, percent error 10.30\n",
            "Epoch    43, train loss 0.067050, train error 1.90,  val loss 0.344769, percent error 10.10\n",
            "Epoch    44, train loss 0.063087, train error 1.82,  val loss 0.338322, percent error 10.20\n",
            "Epoch    45, train loss 0.059885, train error 1.68,  val loss 0.341319, percent error 10.00\n",
            "Epoch    46, train loss 0.055140, train error 1.43,  val loss 0.348573, percent error 9.50\n",
            "Epoch    47, train loss 0.056307, train error 1.57,  val loss 0.345594, percent error 9.50\n",
            "Epoch    48, train loss 0.057186, train error 1.60,  val loss 0.357245, percent error 10.30\n",
            "Epoch    49, train loss 0.052325, train error 1.28,  val loss 0.352989, percent error 10.70\n",
            "Epoch    50, train loss 0.051381, train error 1.30,  val loss 0.364591, percent error 10.40\n",
            "Epoch    51, train loss 0.050661, train error 1.22,  val loss 0.366373, percent error 10.40\n",
            "Epoch    52, train loss 0.047372, train error 1.00,  val loss 0.364806, percent error 10.20\n",
            "Epoch    53, train loss 0.047337, train error 1.10,  val loss 0.374331, percent error 10.10\n",
            "Epoch    54, train loss 0.046983, train error 0.97,  val loss 0.376758, percent error 9.90\n",
            "Epoch    55, train loss 0.046072, train error 0.93,  val loss 0.370143, percent error 10.00\n",
            "Epoch    56, train loss 0.047373, train error 1.20,  val loss 0.388321, percent error 10.90\n",
            "Epoch    57, train loss 0.045625, train error 0.97,  val loss 0.392940, percent error 10.40\n",
            "Epoch    58, train loss 0.044314, train error 1.05,  val loss 0.388244, percent error 10.20\n",
            "Epoch    59, train loss 0.043358, train error 1.00,  val loss 0.387261, percent error 10.80\n",
            "Epoch    60, train loss 0.041833, train error 0.85,  val loss 0.388514, percent error 10.70\n",
            "Epoch    61, train loss 0.039272, train error 0.82,  val loss 0.386099, percent error 10.50\n",
            "Epoch    62, train loss 0.038343, train error 0.78,  val loss 0.386212, percent error 9.80\n",
            "Epoch    63, train loss 0.038440, train error 0.65,  val loss 0.393594, percent error 10.30\n",
            "Epoch    64, train loss 0.037788, train error 0.75,  val loss 0.389595, percent error 10.10\n",
            "Epoch    65, train loss 0.037294, train error 0.70,  val loss 0.391680, percent error 10.20\n",
            "Epoch    66, train loss 0.037671, train error 0.62,  val loss 0.400298, percent error 10.50\n",
            "Epoch    67, train loss 0.037473, train error 0.68,  val loss 0.409680, percent error 11.00\n",
            "Epoch    68, train loss 0.036615, train error 0.70,  val loss 0.397164, percent error 10.30\n",
            "Epoch    69, train loss 0.036548, train error 0.65,  val loss 0.401892, percent error 10.40\n",
            "Epoch    70, train loss 0.035501, train error 0.70,  val loss 0.402842, percent error 10.40\n",
            "Epoch    71, train loss 0.035304, train error 0.68,  val loss 0.400316, percent error 10.20\n",
            "Epoch    72, train loss 0.035270, train error 0.62,  val loss 0.405083, percent error 10.50\n",
            "Epoch    73, train loss 0.034509, train error 0.53,  val loss 0.407363, percent error 10.70\n",
            "Epoch    74, train loss 0.034494, train error 0.60,  val loss 0.411879, percent error 10.30\n",
            "Epoch    75, train loss 0.034096, train error 0.57,  val loss 0.410253, percent error 10.60\n",
            "Epoch    76, train loss 0.033430, train error 0.57,  val loss 0.414020, percent error 11.20\n",
            "Epoch    77, train loss 0.032875, train error 0.53,  val loss 0.413510, percent error 10.70\n",
            "Epoch    78, train loss 0.032979, train error 0.53,  val loss 0.416326, percent error 10.90\n",
            "Epoch    79, train loss 0.032739, train error 0.57,  val loss 0.418195, percent error 10.50\n",
            "Epoch    80, train loss 0.031950, train error 0.53,  val loss 0.416851, percent error 11.00\n",
            "Epoch    81, train loss 0.031745, train error 0.50,  val loss 0.416715, percent error 10.70\n",
            "Epoch    82, train loss 0.031758, train error 0.55,  val loss 0.417781, percent error 10.60\n",
            "Epoch    83, train loss 0.031261, train error 0.53,  val loss 0.417485, percent error 10.80\n",
            "Epoch    84, train loss 0.031133, train error 0.53,  val loss 0.415067, percent error 10.50\n",
            "Epoch    85, train loss 0.030868, train error 0.50,  val loss 0.419463, percent error 10.40\n",
            "Epoch    86, train loss 0.030894, train error 0.53,  val loss 0.418875, percent error 10.60\n",
            "Epoch    87, train loss 0.030879, train error 0.57,  val loss 0.419267, percent error 10.20\n",
            "Epoch    88, train loss 0.030819, train error 0.53,  val loss 0.420530, percent error 10.50\n",
            "Epoch    89, train loss 0.030917, train error 0.55,  val loss 0.423276, percent error 10.70\n",
            "Epoch    90, train loss 0.030427, train error 0.50,  val loss 0.424768, percent error 10.60\n",
            "Epoch    91, train loss 0.030141, train error 0.53,  val loss 0.418949, percent error 10.20\n",
            "Epoch    92, train loss 0.029811, train error 0.53,  val loss 0.423372, percent error 10.50\n",
            "Epoch    93, train loss 0.029876, train error 0.53,  val loss 0.420404, percent error 10.60\n",
            "Epoch    94, train loss 0.030051, train error 0.55,  val loss 0.426090, percent error 10.60\n",
            "Epoch    95, train loss 0.029471, train error 0.47,  val loss 0.424497, percent error 10.70\n",
            "Epoch    96, train loss 0.029343, train error 0.50,  val loss 0.427226, percent error 10.60\n",
            "Epoch    97, train loss 0.029142, train error 0.50,  val loss 0.429232, percent error 10.80\n",
            "Epoch    98, train loss 0.028905, train error 0.50,  val loss 0.427286, percent error 10.60\n",
            "Epoch    99, train loss 0.029150, train error 0.50,  val loss 0.427480, percent error 10.20\n"
          ]
        },
        {
          "output_type": "display_data",
          "data": {
            "text/plain": [
              "<Figure size 640x480 with 1 Axes>"
            ],
            "image/png": "[encoded data removed]"
          },
          "metadata": {}
        }
      ]
    }
  ]
}