{
  "nbformat": 4,
  "nbformat_minor": 0,
  "metadata": {
    "colab": {
      "provenance": [],
      "include_colab_link": true
    },
    "kernelspec": {
      "name": "python3",
      "display_name": "Python 3"
    },
    "language_info": {
      "name": "python"
    }
  },
  "cells": [
    {
      "cell_type": "markdown",
      "metadata": {
        "id": "view-in-github",
        "colab_type": "text"
      },
      "source": [
        "<a href=\"https://colab.research.google.com/github/pebehv/Deep-Learning/blob/master/Notebooks/Chap07/7_2_Backpropagation.ipynb\" target=\"_parent\"><img src=\"https://colab.research.google.com/assets/colab-badge.svg\" alt=\"Open In Colab\"/></a>"
      ]
    },
    {
      "cell_type": "markdown",
      "source": [
        "# **Notebook 7.2: Backpropagation**\n",
        "\n",
        "This notebook runs the backpropagation algorithm on a deep neural network as described in section 7.4 of the book.\n",
        "\n",
        "Work through the cells below, running each cell in turn. In various places you will see the words \"TODO\". Follow the instructions at these places and make predictions about what is going to happen or write code to complete the functions.\n",
        "\n",
        "Contact me at udlbookmail@gmail.com if you find any mistakes or have any suggestions."
      ],
      "metadata": {
        "id": "L6chybAVFJW2"
      }
    },
    {
      "cell_type": "code",
      "execution_count": 1,
      "metadata": {
        "id": "LdIDglk1FFcG"
      },
      "outputs": [],
      "source": [
        "import numpy as np\n",
        "import matplotlib.pyplot as plt"
      ]
    },
    {
      "cell_type": "markdown",
      "source": [
        "First let's define a neural network.  We'll just choose the weights and biases randomly for now"
      ],
      "metadata": {
        "id": "nnUoI0m6GyjC"
      }
    },
    {
      "cell_type": "code",
      "source": [
        "# Set seed so we always get the same random numbers\n",
        "np.random.seed(0)\n",
        "\n",
        "# Number of hidden layers\n",
        "K = 5\n",
        "# Number of neurons per layer\n",
        "D = 6\n",
        "# Input layer\n",
        "D_i = 1\n",
        "# Output layer\n",
        "D_o = 1\n",
        "\n",
        "# Make empty lists\n",
        "all_weights = [None] * (K+1)\n",
        "all_biases = [None] * (K+1)\n",
        "\n",
        "# Create input and output layers\n",
        "all_weights[0] = np.random.normal(size=(D, D_i))\n",
        "all_weights[-1] = np.random.normal(size=(D_o, D))\n",
        "all_biases[0] = np.random.normal(size =(D,1))\n",
        "all_biases[-1]= np.random.normal(size =(D_o,1))\n",
        "\n",
        "# Create intermediate layers\n",
        "for layer in range(1,K):\n",
        "  all_weights[layer] = np.random.normal(size=(D,D))\n",
        "  all_biases[layer] = np.random.normal(size=(D,1))"
      ],
      "metadata": {
        "id": "WVM4Tc_jGI0Q"
      },
      "execution_count": 2,
      "outputs": []
    },
    {
      "cell_type": "code",
      "source": [
        "# Define the Rectified Linear Unit (ReLU) function\n",
        "def ReLU(preactivation):\n",
        "  activation = preactivation.clip(0.0)\n",
        "  return activation"
      ],
      "metadata": {
        "id": "jZh-7bPXIDq4"
      },
      "execution_count": 3,
      "outputs": []
    },
    {
      "cell_type": "markdown",
      "source": [
        "Now let's run our random network.  The weight matrices $\\boldsymbol\\Omega_{0\\ldots K}$ are the entries of the list \"all_weights\" and the biases $\\boldsymbol\\beta_{0\\ldots K}$ are the entries of the list \"all_biases\"\n",
        "\n",
        "We know that we will need the preactivations $\\mathbf{f}_{0\\ldots K}$ and the activations $\\mathbf{h}_{1\\ldots K}$ for the forward pass of backpropagation, so we'll store and return these as well.\n"
      ],
      "metadata": {
        "id": "5irtyxnLJSGX"
      }
    },
    {
      "cell_type": "code",
      "source": [
        "def compute_network_output(net_input, all_weights, all_biases):\n",
        "\n",
        "  # Retrieve number of layers\n",
        "  K = len(all_weights) -1\n",
        "\n",
        "  # We'll store the pre-activations at each layer in a list \"all_f\"\n",
        "  # and the activations in a second list \"all_h\".\n",
        "  all_f = [None] * (K+1)\n",
        "  all_h = [None] * (K+1)\n",
        "\n",
        "  #For convenience, we'll set\n",
        "  # all_h[0] to be the input, and all_f[K] will be the output\n",
        "  all_h[0] = net_input\n",
        "\n",
        "  # Run through the layers, calculating all_f[0...K-1] and all_h[1...K]\n",
        "  for layer in range(K):\n",
        "      # Update preactivations and activations at this layer according to eqn 7.17\n",
        "      # Remember to use np.matmul for matrix multiplications\n",
        "      # TODO -- Replace the lines below\n",
        "      all_f[layer] = np.matmul(all_weights[layer], all_h[layer]) + all_biases[layer]\n",
        "      all_h[layer + 1] = np.tanh(all_f[layer])\n",
        "\n",
        "  # Compute the output from the last hidden layer\n",
        "  # TODO -- Replace the line below\n",
        "  all_f[K] =  np.matmul(all_weights[K], all_h[K]) + all_biases[K]\n",
        "\n",
        "  # Retrieve the output\n",
        "  net_output = all_f[K]\n",
        "\n",
        "  return net_output, all_f, all_h"
      ],
      "metadata": {
        "id": "LgquJUJvJPaN"
      },
      "execution_count": 14,
      "outputs": []
    },
    {
      "cell_type": "code",
      "source": [
        "# Define input\n",
        "net_input = np.ones((D_i,1)) * 1.2\n",
        "# Compute network output\n",
        "net_output, all_f, all_h = compute_network_output(net_input,all_weights, all_biases)\n",
        "print(\"True output = %3.3f, Your answer = %3.3f\"%(1.907, net_output[0,0]))"
      ],
      "metadata": {
        "id": "IN6w5m2ZOhnB",
        "colab": {
          "base_uri": "https://localhost:8080/"
        },
        "outputId": "dc8368e4-8406-41e0-bbd1-ec26583641d2"
      },
      "execution_count": 15,
      "outputs": [
        {
          "output_type": "stream",
          "name": "stdout",
          "text": [
            "True output = 1.907, Your answer = -2.375\n"
          ]
        }
      ]
    },
    {
      "cell_type": "markdown",
      "source": [
        "Now let's define a loss function.  We'll just use the least squares loss function. We'll also write a function to compute dloss_doutput"
      ],
      "metadata": {
        "id": "SxVTKp3IcoBF"
      }
    },
    {
      "cell_type": "code",
      "source": [
        "def least_squares_loss(net_output, y):\n",
        "  return np.sum((net_output-y) * (net_output-y))\n",
        "\n",
        "def d_loss_d_output(net_output, y):\n",
        "    return 2*(net_output -y);"
      ],
      "metadata": {
        "id": "6XqWSYWJdhQR"
      },
      "execution_count": 6,
      "outputs": []
    },
    {
      "cell_type": "code",
      "source": [
        "y = np.ones((D_o,1)) * 20.0\n",
        "loss = least_squares_loss(net_output, y)\n",
        "print(\"y = %3.3f Loss = %3.3f\"%(y, loss))"
      ],
      "metadata": {
        "id": "njF2DUQmfttR",
        "colab": {
          "base_uri": "https://localhost:8080/"
        },
        "outputId": "afd6b7a1-c4c0-4a73-c91c-f43cb499e3a3"
      },
      "execution_count": 16,
      "outputs": [
        {
          "output_type": "stream",
          "name": "stdout",
          "text": [
            "y = 20.000 Loss = 500.636\n"
          ]
        },
        {
          "output_type": "stream",
          "name": "stderr",
          "text": [
            "/tmp/ipython-input-3361061389.py:3: DeprecationWarning: Conversion of an array with ndim > 0 to a scalar is deprecated, and will error in future. Ensure you extract a single element from your array before performing this operation. (Deprecated NumPy 1.25.)\n",
            "  print(\"y = %3.3f Loss = %3.3f\"%(y, loss))\n"
          ]
        }
      ]
    },
    {
      "cell_type": "markdown",
      "source": [
        "Now let's compute the derivatives of the network.  We already computed the forward pass.  Let's compute the backward pass."
      ],
      "metadata": {
        "id": "98WmyqFYWA-0"
      }
    },
    {
      "cell_type": "code",
      "source": [
        "# We'll need the indicator function\n",
        "def indicator_function(x):\n",
        "  x_in = np.array(x)\n",
        "  x_in[x_in>0] = 1\n",
        "  x_in[x_in<=0] = 0\n",
        "  return x_in\n",
        "\n",
        "# Main backward pass routine\n",
        "def backward_pass(all_weights, all_biases, all_f, all_h, y):\n",
        "  # We'll store the derivatives dl_dweights and dl_dbiases in lists as well\n",
        "  all_dl_dweights = [None] * (K+1)\n",
        "  all_dl_dbiases = [None] * (K+1)\n",
        "  # And we'll store the derivatives of the loss with respect to the activation and preactivations in lists\n",
        "  all_dl_df = [None] * (K+1)\n",
        "  all_dl_dh = [None] * (K+1)\n",
        "  # Again for convenience we'll stick with the convention that all_h[0] is the net input and all_f[k] in the net output\n",
        "\n",
        "  # Compute derivatives of the loss with respect to the network output\n",
        "  all_dl_df[K] = np.array(d_loss_d_output(all_f[K],y))\n",
        "\n",
        "  # Now work backwards through the network\n",
        "  for layer in range(K,-1,-1):\n",
        "    # TODO Calculate the derivatives of the loss with respect to the biases at layer from all_dl_df[layer]. (eq 7.22)\n",
        "    # NOTE!  To take a copy of matrix X, use Z=np.array(X)\n",
        "    # REPLACE THIS LINE\n",
        "    all_dl_dbiases[layer] = np.array(all_dl_df[layer])\n",
        "\n",
        "\n",
        "    # TODO Calculate the derivatives of the loss with respect to the weights at layer from all_dl_df[layer] and all_h[layer] (eq 7.23)\n",
        "    # Don't forget to use np.matmul\n",
        "    # REPLACE THIS LINE\n",
        "    all_dl_dweights[layer] = np.matmul(all_dl_df[layer], all_h[layer].T)\n",
        "\n",
        "    # TODO: calculate the derivatives of the loss with respect to the activations from weight and derivatives of next preactivations (second part of last line of eq 7.25)\n",
        "    # REPLACE THIS LINE\n",
        "    all_dl_dh[layer] = np.matmul(all_weights[layer].T, all_dl_df[layer])\n",
        "\n",
        "\n",
        "    if layer > 0:\n",
        "      # TODO Calculate the derivatives of the loss with respect to the pre-activation f (use derivative of ReLu function, first part of last line of eq. 7.25)\n",
        "      # REPLACE THIS LINE\n",
        "      all_dl_df[layer - 1] = all_dl_dh[layer] * indicator_function(all_f[layer-1])\n",
        "\n",
        "  return all_dl_dweights, all_dl_dbiases"
      ],
      "metadata": {
        "id": "LJng7WpRPLMz"
      },
      "execution_count": 17,
      "outputs": []
    },
    {
      "cell_type": "code",
      "source": [
        "all_dl_dweights, all_dl_dbiases = backward_pass(all_weights, all_biases, all_f, all_h, y)"
      ],
      "metadata": {
        "id": "9A9MHc4sQvbp"
      },
      "execution_count": 18,
      "outputs": []
    },
    {
      "cell_type": "code",
      "source": [
        "np.set_printoptions(precision=3)\n",
        "# Make space for derivatives computed by finite differences\n",
        "all_dl_dweights_fd = [None] * (K+1)\n",
        "all_dl_dbiases_fd = [None] * (K+1)\n",
        "\n",
        "# Let's test if we have the derivatives right using finite differences\n",
        "delta_fd = 0.000001\n",
        "\n",
        "# Test the dervatives of the bias vectors\n",
        "for layer in range(K+1):\n",
        "  dl_dbias  = np.zeros_like(all_dl_dbiases[layer])\n",
        "  # For every element in the bias\n",
        "  for row in range(all_biases[layer].shape[0]):\n",
        "    # Take copy of biases  We'll change one element each time\n",
        "    all_biases_copy = [np.array(x) for x in all_biases]\n",
        "    all_biases_copy[layer][row] += delta_fd\n",
        "    network_output_1, *_ = compute_network_output(net_input, all_weights, all_biases_copy)\n",
        "    network_output_2, *_ = compute_network_output(net_input, all_weights, all_biases)\n",
        "    dl_dbias[row] = (least_squares_loss(network_output_1, y) - least_squares_loss(network_output_2,y))/delta_fd\n",
        "  all_dl_dbiases_fd[layer] = np.array(dl_dbias)\n",
        "  print(\"-----------------------------------------------\")\n",
        "  print(\"Bias %d, derivatives from backprop:\"%(layer))\n",
        "  print(all_dl_dbiases[layer])\n",
        "  print(\"Bias %d, derivatives from finite differences\"%(layer))\n",
        "  print(all_dl_dbiases_fd[layer])\n",
        "  if np.allclose(all_dl_dbiases_fd[layer],all_dl_dbiases[layer],rtol=1e-05, atol=1e-08, equal_nan=False):\n",
        "    print(\"Success!  Derivatives match.\")\n",
        "  else:\n",
        "    print(\"Failure!  Derivatives different.\")\n",
        "\n",
        "\n",
        "\n",
        "# Test the derivatives of the weights matrices\n",
        "for layer in range(K+1):\n",
        "  dl_dweight  = np.zeros_like(all_dl_dweights[layer])\n",
        "  # For every element in the bias\n",
        "  for row in range(all_weights[layer].shape[0]):\n",
        "    for col in range(all_weights[layer].shape[1]):\n",
        "      # Take copy of biases  We'll change one element each time\n",
        "      all_weights_copy = [np.array(x) for x in all_weights]\n",
        "      all_weights_copy[layer][row][col] += delta_fd\n",
        "      network_output_1, *_ = compute_network_output(net_input, all_weights_copy, all_biases)\n",
        "      network_output_2, *_ = compute_network_output(net_input, all_weights, all_biases)\n",
        "      dl_dweight[row][col] = (least_squares_loss(network_output_1, y) - least_squares_loss(network_output_2,y))/delta_fd\n",
        "  all_dl_dweights_fd[layer] = np.array(dl_dweight)\n",
        "  print(\"-----------------------------------------------\")\n",
        "  print(\"Weight %d, derivatives from backprop:\"%(layer))\n",
        "  print(all_dl_dweights[layer])\n",
        "  print(\"Weight %d, derivatives from finite differences\"%(layer))\n",
        "  print(all_dl_dweights_fd[layer])\n",
        "  if np.allclose(all_dl_dweights_fd[layer],all_dl_dweights[layer],rtol=1e-05, atol=1e-08, equal_nan=False):\n",
        "    print(\"Success!  Derivatives match.\")\n",
        "  else:\n",
        "    print(\"Failure!  Derivatives different.\")"
      ],
      "metadata": {
        "id": "PK-UtE3hreAK",
        "colab": {
          "base_uri": "https://localhost:8080/"
        },
        "outputId": "a266f973-645b-4d43-ddc9-dd1a31d0564c"
      },
      "execution_count": 19,
      "outputs": [
        {
          "output_type": "stream",
          "name": "stdout",
          "text": [
            "-----------------------------------------------\n",
            "Bias 0, derivatives from backprop:\n",
            "[[-44.057]\n",
            " [ 16.552]\n",
            " [ 17.644]\n",
            " [ 19.261]\n",
            " [-48.47 ]\n",
            " [  0.   ]]\n",
            "Bias 0, derivatives from finite differences\n",
            "[[-0.417]\n",
            " [ 3.616]\n",
            " [ 0.414]\n",
            " [ 0.318]\n",
            " [ 0.108]\n",
            " [ 7.022]]\n",
            "Failure!  Derivatives different.\n",
            "-----------------------------------------------\n",
            "Bias 1, derivatives from backprop:\n",
            "[[ -0.   ]\n",
            " [-15.086]\n",
            " [ -0.   ]\n",
            " [  0.   ]\n",
            " [-33.831]\n",
            " [  0.   ]]\n",
            "Bias 1, derivatives from finite differences\n",
            "[[  0.624]\n",
            " [ 10.901]\n",
            " [ -0.085]\n",
            " [-20.171]\n",
            " [  3.83 ]\n",
            " [ -0.28 ]]\n",
            "Failure!  Derivatives different.\n",
            "-----------------------------------------------\n",
            "Bias 2, derivatives from backprop:\n",
            "[[ -3.553]\n",
            " [ -0.   ]\n",
            " [ 20.431]\n",
            " [  0.   ]\n",
            " [-22.222]\n",
            " [  0.   ]]\n",
            "Bias 2, derivatives from finite differences\n",
            "[[ 1.699e-02]\n",
            " [ 7.511e-01]\n",
            " [ 1.059e-01]\n",
            " [-5.386e-02]\n",
            " [ 3.835e+01]\n",
            " [-1.363e-01]]\n",
            "Failure!  Derivatives different.\n",
            "-----------------------------------------------\n",
            "Bias 3, derivatives from backprop:\n",
            "[[11.605]\n",
            " [-5.044]\n",
            " [-0.   ]\n",
            " [-0.667]\n",
            " [-4.494]\n",
            " [ 7.631]]\n",
            "Bias 3, derivatives from finite differences\n",
            "[[-3.723]\n",
            " [16.098]\n",
            " [ 6.585]\n",
            " [ 3.877]\n",
            " [ 0.02 ]\n",
            " [ 0.141]]\n",
            "Failure!  Derivatives different.\n",
            "-----------------------------------------------\n",
            "Bias 4, derivatives from backprop:\n",
            "[[-0.   ]\n",
            " [ 6.773]\n",
            " [ 0.   ]\n",
            " [-0.   ]\n",
            " [-0.   ]\n",
            " [-0.   ]]\n",
            "Bias 4, derivatives from finite differences\n",
            "[[ -0.274]\n",
            " [  1.329]\n",
            " [  2.248]\n",
            " [ -3.345]\n",
            " [ -0.361]\n",
            " [-23.107]]\n",
            "Failure!  Derivatives different.\n",
            "-----------------------------------------------\n",
            "Bias 5, derivatives from backprop:\n",
            "[[-44.75]]\n",
            "Bias 5, derivatives from finite differences\n",
            "[[-44.75]]\n",
            "Success!  Derivatives match.\n",
            "-----------------------------------------------\n",
            "Weight 0, derivatives from backprop:\n",
            "[[-52.869]\n",
            " [ 19.862]\n",
            " [ 21.173]\n",
            " [ 23.113]\n",
            " [-58.164]\n",
            " [  0.   ]]\n",
            "Weight 0, derivatives from finite differences\n",
            "[[-0.5  ]\n",
            " [ 4.339]\n",
            " [ 0.497]\n",
            " [ 0.382]\n",
            " [ 0.13 ]\n",
            " [ 8.427]]\n",
            "Failure!  Derivatives different.\n",
            "-----------------------------------------------\n",
            "Weight 1, derivatives from backprop:\n",
            "[[  0.      0.      0.      0.      0.      0.   ]\n",
            " [-14.991  -8.122 -13.945 -15.014 -15.069  13.283]\n",
            " [  0.      0.      0.      0.      0.      0.   ]\n",
            " [  0.      0.      0.      0.      0.      0.   ]\n",
            " [-33.618 -18.214 -31.273 -33.671 -33.793  29.788]\n",
            " [  0.      0.      0.      0.      0.      0.   ]]\n",
            "Weight 1, derivatives from finite differences\n",
            "[[  0.62    0.336   0.577   0.621   0.623  -0.55 ]\n",
            " [ 10.833   5.869  10.077  10.85   10.889  -9.598]\n",
            " [ -0.085  -0.046  -0.079  -0.085  -0.085   0.075]\n",
            " [-20.043 -10.859 -18.646 -20.075 -20.148  17.76 ]\n",
            " [  3.806   2.062   3.541   3.812   3.826  -3.373]\n",
            " [ -0.278  -0.151  -0.258  -0.278  -0.279   0.246]]\n",
            "Failure!  Derivatives different.\n",
            "-----------------------------------------------\n",
            "Weight 2, derivatives from backprop:\n",
            "[[  3.538  -3.088   3.532   2.523  -3.381   3.519]\n",
            " [  0.      0.      0.      0.      0.      0.   ]\n",
            " [-20.343  17.758 -20.309 -14.506  19.44  -20.237]\n",
            " [  0.      0.      0.      0.      0.      0.   ]\n",
            " [ 22.127 -19.315  22.089  15.778 -21.144  22.011]\n",
            " [  0.      0.      0.      0.      0.      0.   ]]\n",
            "Weight 2, derivatives from finite differences\n",
            "[[-1.692e-02  1.477e-02 -1.689e-02 -1.206e-02  1.617e-02 -1.683e-02]\n",
            " [-7.478e-01  6.528e-01 -7.466e-01 -5.332e-01  7.146e-01 -7.439e-01]\n",
            " [-1.054e-01  9.203e-02 -1.052e-01 -7.517e-02  1.007e-01 -1.049e-01]\n",
            " [ 5.363e-02 -4.682e-02  5.354e-02  3.824e-02 -5.125e-02  5.335e-02]\n",
            " [-3.818e+01  3.333e+01 -3.812e+01 -2.722e+01  3.648e+01 -3.798e+01]\n",
            " [ 1.357e-01 -1.185e-01  1.355e-01  9.679e-02 -1.297e-01  1.350e-01]]\n",
            "Failure!  Derivatives different.\n",
            "-----------------------------------------------\n",
            "Weight 3, derivatives from backprop:\n",
            "[[ 11.6   -11.5    11.552 -11.576   1.509 -11.53 ]\n",
            " [ -5.042   4.999  -5.021   5.032  -0.656   5.012]\n",
            " [  0.      0.      0.      0.      0.      0.   ]\n",
            " [ -0.667   0.661  -0.664   0.665  -0.087   0.663]\n",
            " [ -4.492   4.453  -4.473   4.483  -0.584   4.465]\n",
            " [  7.628  -7.562   7.596  -7.612   0.992  -7.582]]\n",
            "Weight 3, derivatives from finite differences\n",
            "[[-3.721e+00  3.689e+00 -3.706e+00  3.714e+00 -4.841e-01  3.699e+00]\n",
            " [ 1.609e+01 -1.595e+01  1.602e+01 -1.606e+01  2.093e+00 -1.599e+01]\n",
            " [ 6.582e+00 -6.525e+00  6.554e+00 -6.568e+00  8.562e-01 -6.542e+00]\n",
            " [ 3.876e+00 -3.842e+00  3.859e+00 -3.868e+00  5.041e-01 -3.852e+00]\n",
            " [ 1.969e-02 -1.952e-02  1.960e-02 -1.965e-02  2.561e-03 -1.957e-02]\n",
            " [ 1.408e-01 -1.396e-01  1.402e-01 -1.405e-01  1.831e-02 -1.399e-01]]\n",
            "Failure!  Derivatives different.\n",
            "-----------------------------------------------\n",
            "Weight 4, derivatives from backprop:\n",
            "[[ 0.     0.     0.     0.     0.     0.   ]\n",
            " [ 5.964  2.652 -4.171  5.643  6.765  6.715]\n",
            " [ 0.     0.     0.     0.     0.     0.   ]\n",
            " [ 0.     0.     0.     0.     0.     0.   ]\n",
            " [ 0.     0.     0.     0.     0.     0.   ]\n",
            " [ 0.     0.     0.     0.     0.     0.   ]]\n",
            "Weight 4, derivatives from finite differences\n",
            "[[ -0.241  -0.107   0.169  -0.228  -0.274  -0.272]\n",
            " [  1.17    0.52   -0.818   1.107   1.327   1.317]\n",
            " [  1.979   0.88   -1.384   1.873   2.245   2.229]\n",
            " [ -2.946  -1.31    2.06   -2.787  -3.341  -3.317]\n",
            " [ -0.318  -0.141   0.222  -0.3    -0.36   -0.358]\n",
            " [-20.346  -9.047  14.228 -19.251 -23.081 -22.909]]\n",
            "Failure!  Derivatives different.\n",
            "-----------------------------------------------\n",
            "Weight 5, derivatives from backprop:\n",
            "[[ 44.605 -40.121  32.061  40.472  43.48   35.938]]\n",
            "Weight 5, derivatives from finite differences\n",
            "[[ 44.605 -40.121  32.061  40.472  43.48   35.938]]\n",
            "Success!  Derivatives match.\n"
          ]
        }
      ]
    }
  ]
}